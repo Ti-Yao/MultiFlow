{
 "cells": [
  {
   "cell_type": "code",
   "execution_count": 1,
   "id": "b607397f",
   "metadata": {},
   "outputs": [
    {
     "name": "stderr",
     "output_type": "stream",
     "text": [
      "2024-10-03 16:51:03.612601: I tensorflow/core/platform/cpu_feature_guard.cc:193] This TensorFlow binary is optimized with oneAPI Deep Neural Network Library (oneDNN) to use the following CPU instructions in performance-critical operations:  AVX2 AVX512F AVX512_VNNI FMA\n",
      "To enable them in other operations, rebuild TensorFlow with the appropriate compiler flags.\n"
     ]
    }
   ],
   "source": [
    "import tensorflow_mri as tfmr\n",
    "import numpy as np\n",
    "from sklearn.model_selection import train_test_split\n",
    "import tensorflow as tf\n",
    "import tensorflow.keras.backend as K\n",
    "import random\n",
    "import matplotlib.pyplot as plt\n",
    "import neptune.new as neptune\n",
    "import os\n",
    "from scipy import ndimage\n",
    "os.environ[\"CUDA_VISIBLE_DEVICES\"] = \"\"\n",
    "import glob\n",
    "from neptune.new.integrations.tensorflow_keras import NeptuneCallback\n",
    "import matplotlib.animation as animation\n",
    "import ipynbname\n",
    "nb_fname = ipynbname.name()\n",
    "from losses import *\n",
    "from scipy import stats\n",
    "from unet3plus import *\n",
    "from pathlib import Path\n",
    "import pydicom\n",
    "from frechetdist import frdist\n",
    "import matplotlib.patches as mpatches\n",
    "import seaborn as sns\n",
    "import pandas as pd\n",
    "from scipy.interpolate import CubicSpline\n",
    "from tqdm import tqdm\n",
    "from scipy.ndimage import zoom "
   ]
  },
  {
   "cell_type": "code",
   "execution_count": 2,
   "id": "787e8261",
   "metadata": {},
   "outputs": [],
   "source": [
    "vessels_dict = {'lpa':0,'rpa':1,'ao':2,'svc':3,'ivc':4}\n",
    "swap_patients = []#['COL-RAMDOM-1_2022','PIT-PHIZAC-1_2018','BCH-CARJOS-1_2021','PIT-STATER-1_2023']\n",
    "# double_aorta_patients = ['BCH-BOYPAU-1_2016','BCH-SNOCHA-1_2024','BCH-VENJAM-1_2023','PIT-WINNIC-1_2022','UKY-BROEZE-1_2022','LCH-CORJAS-1_2014']\n",
    "double_aorta_patients = ['BCH-BOYPAU-1_2016','MTS-RAMLAU-1_2021','IND-PAULIS-1_2021','MOT-THOPET-1_2019','OUH-COXCAL-1_2021','YAL-JAVELI-1_2021','YAL-PLETAY-1_2020']\n",
    "# ['BCH-SNOCHA-1_2024','BCH-VENJAM-1_2023','PIT-WINNIC-1_2022']\n",
    "error_patients = ['CHO-JANHAN-1_2019']\n",
    "new_patients = [\"BCH-ALEOLI-1_2022\",\"BCH-MAFSAM-1_2024\",\"BCH-VARADA-1_2017\",\"BCH-YOULOG-1_2024\",\"CHP-HEREDG-1_2021\",\"CHP-NGUSOP-1_2018\"]#['BCH-BOYPAU-1_2016','MTS-RAMLAU-1_2021','IND-PAULIS-1_2021','MOT-THOPET-1_2019','OUH-COXCAL-1_2021','YAL-JAVELI-1_2021','YAL-PLETAY-1_2020']\n"
   ]
  },
  {
   "cell_type": "code",
   "execution_count": 3,
   "id": "3cd8021d",
   "metadata": {
    "scrolled": true
   },
   "outputs": [
    {
     "name": "stdout",
     "output_type": "stream",
     "text": [
      "260\n"
     ]
    }
   ],
   "source": [
    "data_path = '../data/clean'\n",
    "patients =sorted(np.unique(['_'.join(pat.split('_')[:2]).split('/')[-1].replace('.npy','') for pat in glob.glob(f'../data/clean/*')]))\n",
    "print(len(patients))\n",
    "desired_frames = 32"
   ]
  },
  {
   "cell_type": "code",
   "execution_count": 4,
   "id": "6619512f",
   "metadata": {},
   "outputs": [
    {
     "name": "stderr",
     "output_type": "stream",
     "text": [
      "100%|██████████| 1/1 [00:02<00:00,  2.71s/it]\n"
     ]
    }
   ],
   "source": [
    "for patient in tqdm(['YAL-LIVMIC-1_2023']):\n",
    "#     try:\n",
    "    if not os.path.exists(f'../data/clean_128_32/{patient}_ivc.npy') or 1:\n",
    "        for vessel in vessels_dict.keys(): \n",
    "\n",
    "            vessel_mag_image, vessel_phase_image, vessel_masks = np.load(f'{data_path}/{patient}_{vessel}.npy', allow_pickle = True)\n",
    "            frames = vessel_mag_image.shape[-1]\n",
    "            ratio = desired_frames/frames\n",
    "\n",
    "            mag_im = zoom(vessel_mag_image, (0.5,0.5,ratio))\n",
    "            phase_im = zoom(vessel_phase_image, (0.5,0.5,ratio))\n",
    "            mask = zoom(vessel_masks, (0.5,0.5,ratio))\n",
    "\n",
    "            mask[mask> 0.5] = 1\n",
    "            mask[mask<= 0.5] = 0\n",
    "\n",
    "\n",
    "            np.save(f'../data/clean_128_32/{patient}_{vessel}.npy', [mag_im, phase_im, mask])\n",
    "#     except Exception as e:\n",
    "#         print(e, patient)"
   ]
  },
  {
   "cell_type": "code",
   "execution_count": 5,
   "id": "93450547",
   "metadata": {
    "scrolled": true
   },
   "outputs": [],
   "source": [
    "# all_frames = []\n",
    "# for patient in tqdm(patients):\n",
    "#     vessel_mag_image, vessel_phase_image, vessel_masks = np.load(f'{data_path}/{patient}_lpa.npy', allow_pickle = True)\n",
    "#     frames = vessel_mag_image.shape[-1]\n",
    "#     all_frames.append(frames)"
   ]
  },
  {
   "cell_type": "code",
   "execution_count": 6,
   "id": "15a1b001",
   "metadata": {},
   "outputs": [
    {
     "ename": "NameError",
     "evalue": "name 'all_frames' is not defined",
     "output_type": "error",
     "traceback": [
      "\u001b[0;31m---------------------------------------------------------------------------\u001b[0m",
      "\u001b[0;31mNameError\u001b[0m                                 Traceback (most recent call last)",
      "Cell \u001b[0;32mIn[6], line 1\u001b[0m\n\u001b[0;32m----> 1\u001b[0m np\u001b[38;5;241m.\u001b[39mmedian(\u001b[43mall_frames\u001b[49m)\n",
      "\u001b[0;31mNameError\u001b[0m: name 'all_frames' is not defined"
     ]
    }
   ],
   "source": [
    "np.median(all_frames)"
   ]
  },
  {
   "cell_type": "code",
   "execution_count": null,
   "id": "f797614c",
   "metadata": {},
   "outputs": [],
   "source": [
    "np.mean(all_frames)"
   ]
  },
  {
   "cell_type": "code",
   "execution_count": null,
   "id": "35f83bab",
   "metadata": {},
   "outputs": [],
   "source": [
    "plt.hist(all_frames)"
   ]
  },
  {
   "cell_type": "code",
   "execution_count": null,
   "id": "f48ed95b",
   "metadata": {},
   "outputs": [],
   "source": [
    "df = pd.DataFrame()"
   ]
  },
  {
   "cell_type": "code",
   "execution_count": null,
   "id": "46cc8a65",
   "metadata": {},
   "outputs": [],
   "source": [
    "df['frames'] = all_frames"
   ]
  },
  {
   "cell_type": "code",
   "execution_count": null,
   "id": "553a3a5b",
   "metadata": {},
   "outputs": [],
   "source": [
    "df['hosp'] = [pat[:3] for pat in patients]"
   ]
  },
  {
   "cell_type": "code",
   "execution_count": null,
   "id": "2145cec7",
   "metadata": {},
   "outputs": [],
   "source": [
    "sns.barplot(data = df, y = 'frames', x = 'hosp')"
   ]
  },
  {
   "cell_type": "code",
   "execution_count": null,
   "id": "64d576fe",
   "metadata": {},
   "outputs": [],
   "source": []
  },
  {
   "cell_type": "code",
   "execution_count": null,
   "id": "3af4928a",
   "metadata": {},
   "outputs": [],
   "source": []
  }
 ],
 "metadata": {
  "kernelspec": {
   "display_name": "Python 3 (ipykernel)",
   "language": "python",
   "name": "python3"
  },
  "language_info": {
   "codemirror_mode": {
    "name": "ipython",
    "version": 3
   },
   "file_extension": ".py",
   "mimetype": "text/x-python",
   "name": "python",
   "nbconvert_exporter": "python",
   "pygments_lexer": "ipython3",
   "version": "3.9.16"
  }
 },
 "nbformat": 4,
 "nbformat_minor": 5
}
